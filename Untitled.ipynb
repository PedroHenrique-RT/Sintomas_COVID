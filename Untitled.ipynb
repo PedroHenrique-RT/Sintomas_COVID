{
 "cells": [
  {
   "cell_type": "code",
   "execution_count": null,
   "id": "c43c263d-8132-4a76-9a47-98dd6a944c47",
   "metadata": {},
   "outputs": [],
   "source": [
    "import os\n",
    "from langchain_text_splitters import RecursiveCharacterTextSplitter, CharacterTextSplitter\n",
    "from langchain_chroma import Chroma\n",
    "#from langchain_community.embeddings import GPT4AllEmbeddings\n",
    "from langchain_openai import OpenAIEmbeddings\n",
    "from dotenv import load_dotenv"
   ]
  },
  {
   "cell_type": "code",
   "execution_count": 12,
   "id": "70a16f2b-c824-4f74-8c2b-9df1e36b0e20",
   "metadata": {},
   "outputs": [],
   "source": [
    "load_dotenv()\n",
    "\n",
    "chunk_size = 10\n",
    "percentual_overlap = 0.2"
   ]
  },
  {
   "cell_type": "code",
   "execution_count": 13,
   "id": "4cd86413-703d-4c12-862a-b606afbb5879",
   "metadata": {},
   "outputs": [],
   "source": [
    "def open_file(file_path):\n",
    "    try:\n",
    "        with open(file_path, \"r\", encoding=\"utf-8\") as file:\n",
    "            contents = file.read()\n",
    "        return contents\n",
    "    except FileNotFoundError:\n",
    "        return \"File not found.\"\n",
    "    except Exception as e:\n",
    "        return f\"Error: {e}\""
   ]
  },
  {
   "cell_type": "code",
   "execution_count": 14,
   "id": "d965208c-18c6-4b2a-953c-7f64560cc8c2",
   "metadata": {},
   "outputs": [],
   "source": [
    "#arquivo = open('Sintomas_de_Covid_1.pdf','rb')\n",
    "arquivo = open('Sintomas_de_Covid_2.pdf','rb') "
   ]
  },
  {
   "cell_type": "code",
   "execution_count": 19,
   "id": "35d7d803-1c7a-408d-a6a5-38b30fef8e24",
   "metadata": {},
   "outputs": [],
   "source": [
    "texto = open_file(arquivo)  # Sua função para processar o PDF\n",
    "filename = os.path.basename(arquivo.name)\n",
    "metadatas = [{\"nome do arquivo\": filename}]"
   ]
  },
  {
   "cell_type": "code",
   "execution_count": 20,
   "id": "014569a4-2336-4750-981d-d2cf9b1343f6",
   "metadata": {},
   "outputs": [],
   "source": [
    "text_splitter = CharacterTextSplitter(separator=\"---\", chunk_size=chunk_size,\n",
    "#text_splitter = RecursiveCharacterTextSplitter(separators=[\"}\\n{\"],chunk_size=chunk_size,\n",
    "                                      chunk_overlap=int(chunk_size * percentual_overlap),\n",
    "                                      length_function=len,\n",
    "                                      is_separator_regex=False,\n",
    "                                      )"
   ]
  },
  {
   "cell_type": "code",
   "execution_count": 21,
   "id": "6330bd92-f041-47d9-a339-8a5bbf5b0b14",
   "metadata": {},
   "outputs": [
    {
     "name": "stdout",
     "output_type": "stream",
     "text": [
      "##### 1 #####\n",
      "Error: expected str, bytes or os.PathLike object, not BufferedReader\n",
      "{'nome do arquivo': 'Sintomas_de_Covid_2.pdf'}\n"
     ]
    }
   ],
   "source": [
    "all_splits = text_splitter.create_documents([texto], metadatas=metadatas)\n",
    "for index, text in enumerate(all_splits):\n",
    "    print(\"#####\", index + 1, \"#####\")\n",
    "    print(text.page_content)\n",
    "    print(text.metadata)"
   ]
  },
  {
   "cell_type": "code",
   "execution_count": null,
   "id": "408eefaf-adbf-4c26-8fea-2b77cf5d26cd",
   "metadata": {},
   "outputs": [],
   "source": [
    "vectorstore = Chroma.from_documents(documents=all_splits, embedding=OpenAIEmbeddings())\n",
    "\n",
    "#question = \"Quais os sintomas da Covid e como se cuidar?\"\n",
    "question = \"Sintomas Covid?\"\n",
    "docs = vectorstore.similarity_search_with_score(question, k=4)\n",
    "len(docs)"
   ]
  },
  {
   "cell_type": "code",
   "execution_count": null,
   "id": "df1647e0-9a25-4bf0-ba46-f22a753661ce",
   "metadata": {},
   "outputs": [],
   "source": [
    "for index, doc in enumerate(docs):\n",
    "    print(\"Resultado\", index + 1)\n",
    "    print(doc)\n",
    "    print(\"\")"
   ]
  }
 ],
 "metadata": {
  "kernelspec": {
   "display_name": "Python 3 (ipykernel)",
   "language": "python",
   "name": "python3"
  },
  "language_info": {
   "codemirror_mode": {
    "name": "ipython",
    "version": 3
   },
   "file_extension": ".py",
   "mimetype": "text/x-python",
   "name": "python",
   "nbconvert_exporter": "python",
   "pygments_lexer": "ipython3",
   "version": "3.12.7"
  }
 },
 "nbformat": 4,
 "nbformat_minor": 5
}
